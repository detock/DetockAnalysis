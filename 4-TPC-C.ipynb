{
 "cells": [
  {
   "cell_type": "code",
   "execution_count": null,
   "metadata": {
    "execution": {
     "iopub.execute_input": "2021-12-10T19:01:51.080745Z",
     "iopub.status.busy": "2021-12-10T19:01:51.080110Z",
     "iopub.status.idle": "2021-12-10T19:01:56.131196Z",
     "shell.execute_reply": "2021-12-10T19:01:56.130039Z",
     "shell.execute_reply.started": "2021-12-10T19:01:51.080523Z"
    }
   },
   "outputs": [],
   "source": [
    "from pyspark.sql import SparkSession\n",
    "\n",
    "spark = SparkSession.builder\\\n",
    "    .config(\"spark.driver.memory\", \"8g\")\\\n",
    "    .getOrCreate()\n",
    "\n",
    "spark"
   ]
  },
  {
   "cell_type": "code",
   "execution_count": null,
   "metadata": {
    "execution": {
     "iopub.execute_input": "2021-12-10T19:01:56.132905Z",
     "iopub.status.busy": "2021-12-10T19:01:56.132668Z",
     "iopub.status.idle": "2021-12-10T19:01:56.633854Z",
     "shell.execute_reply": "2021-12-10T19:01:56.632940Z",
     "shell.execute_reply.started": "2021-12-10T19:01:56.132880Z"
    }
   },
   "outputs": [],
   "source": [
    "%load_ext autoreload\n",
    "%autoreload 2\n",
    "\n",
    "import matplotlib.pyplot as plt\n",
    "import pandas as pd\n",
    "import pyspark.sql.functions as F\n",
    "import pyspark.sql.types as T\n",
    "\n",
    "from cycler import cycler\n",
    "from pyspark.sql.functions import col, lit\n",
    "\n",
    "from common import *\n",
    "\n",
    "plt.rc('axes', labelsize=15, titlesize=15) \n",
    "plt.rc('xtick', labelsize=14)\n",
    "plt.rc('ytick', labelsize=14)\n",
    "plt.rc('legend', fontsize=14)"
   ]
  },
  {
   "cell_type": "code",
   "execution_count": null,
   "metadata": {
    "execution": {
     "iopub.execute_input": "2021-12-10T19:01:57.530478Z",
     "iopub.status.busy": "2021-12-10T19:01:57.530203Z",
     "iopub.status.idle": "2021-12-10T19:02:02.997287Z",
     "shell.execute_reply": "2021-12-10T19:02:02.996031Z",
     "shell.execute_reply.started": "2021-12-10T19:01:57.530458Z"
    }
   },
   "outputs": [],
   "source": [
    "PREFIX = \"main/tpcc\"\n",
    "IGNORE_CACHE = False\n",
    "\n",
    "index_df = from_cache_or_compute(\n",
    "    f'{PREFIX}/index.parquet',\n",
    "    lambda: get_index(spark, PREFIX)\\\n",
    "        .withColumn(\"sample\", col(\"sample\").cast(T.IntegerType()))\\\n",
    "        .toPandas(),\n",
    "    ignore_cache=IGNORE_CACHE,\n",
    ")\n",
    "\n",
    "index_df"
   ]
  },
  {
   "cell_type": "markdown",
   "metadata": {},
   "source": [
    "# Throughput"
   ]
  },
  {
   "cell_type": "code",
   "execution_count": null,
   "metadata": {
    "execution": {
     "iopub.execute_input": "2021-12-10T19:02:17.467047Z",
     "iopub.status.busy": "2021-12-10T19:02:17.466772Z",
     "iopub.status.idle": "2021-12-10T19:02:44.605346Z",
     "shell.execute_reply": "2021-12-10T19:02:44.604480Z",
     "shell.execute_reply.started": "2021-12-10T19:02:17.467027Z"
    }
   },
   "outputs": [],
   "source": [
    "IGNORE_CACHE = False\n",
    "\n",
    "def compute_throughput(prefix):\n",
    "    res = throughput(\n",
    "        spark,\n",
    "        prefix,\n",
    "        start_offset_sec=5,\n",
    "        duration_sec=20\n",
    "    ).first().throughput\n",
    "    print(prefix, res)\n",
    "    return res\n",
    "\n",
    "\n",
    "def compute_all_throughputs(index_df):\n",
    "    # Extract all prefixes in the index\n",
    "    throughput_df = index_df.loc[:, [\"prefix\"]]\n",
    "    # Compute the throughput of each prefix\n",
    "    throughput_df[\"throughput\"] = throughput_df.apply(lambda r : compute_throughput(r[\"prefix\"]), axis=1)\n",
    "    # Associate metadata from the index to the throughputs\n",
    "    return throughput_df.merge(index_df, on=\"prefix\")\n",
    "\n",
    "\n",
    "throughput_df = from_cache_or_compute(\n",
    "    f'{PREFIX}/throughput.parquet',\n",
    "    lambda: compute_all_throughputs(index_df),\n",
    "    ignore_cache=IGNORE_CACHE,\n",
    ")\n",
    "\n",
    "throughput_df"
   ]
  },
  {
   "cell_type": "code",
   "execution_count": null,
   "metadata": {
    "execution": {
     "iopub.execute_input": "2021-12-10T19:06:25.746478Z",
     "iopub.status.busy": "2021-12-10T19:06:25.746219Z",
     "iopub.status.idle": "2021-12-10T19:06:25.977585Z",
     "shell.execute_reply": "2021-12-10T19:06:25.976670Z",
     "shell.execute_reply.started": "2021-12-10T19:06:25.746460Z"
    }
   },
   "outputs": [],
   "source": [
    "pivot_values = \"throughput\"\n",
    "pivot_columns = \"config_name\"\n",
    "pivot_index = \"clients\"\n",
    "pivoted = throughput_df.pivot(index=pivot_index, columns=pivot_columns, values=pivot_values).sort_index()\n",
    "pivoted[\"clients\"] = pivoted.index\n",
    "pivoted.rename(columns={\n",
    "    \"baseline.conf\": \"SLOG\",\n",
    "    \"ddr_ts.conf\": \"Detock\",\n",
    "    \"calvin.conf\": \"Calvin\",\n",
    "    \"calvin_paxos.conf\": \"Calvin (Paxos)\",\n",
    "}, inplace=True)\n",
    "pivoted.columns.name = ''\n",
    "\n",
    "ax = pivoted.plot(x=\"clients\", xlabel=\"Number of clients per region\", ylabel='Throughput (txn/s)', rot=0, legend=False, figsize=(7,3))\n",
    "\n",
    "markers = [\"o\", \"^\", \".\", \"+\"]\n",
    "for i, line in enumerate(ax.get_lines()):\n",
    "    line.set_marker(markers[i])\n",
    "\n",
    "ax.legend(ax.get_lines(), pivoted.columns)\n",
    "\n",
    "plt.grid(axis='y')\n",
    "plt.tight_layout()\n",
    "plt.savefig('output/tpcc-throughput.pdf')"
   ]
  },
  {
   "cell_type": "markdown",
   "metadata": {},
   "source": [
    "# Latency"
   ]
  },
  {
   "cell_type": "markdown",
   "metadata": {},
   "source": [
    "# By regions"
   ]
  },
  {
   "cell_type": "code",
   "execution_count": null,
   "metadata": {},
   "outputs": [],
   "source": [
    "index_sdf = get_index(spark, PREFIX)\n",
    "\n",
    "latency_sdf = latency(spark, map(\n",
    "        lambda r : r.prefix,\n",
    "        index_sdf.select(\"prefix\").collect()\n",
    "    ))\\\n",
    "    .join(index_sdf, on=\"prefix\")\\\n",
    "    .withColumn(\n",
    "        \"coordinator_region\",\n",
    "        F.when(F.col(\"config_name\") == \"calvin.conf\", F.shiftright(col(\"coordinator\"), 16))\\\n",
    "            .when(F.col(\"config_name\") == \"calvin_paxos.conf\", F.shiftright(col(\"coordinator\"), 16))\\\n",
    "            .when(F.col(\"config_name\") == \"baseline.conf\", F.shiftright(col(\"coordinator\"), 24))\\\n",
    "            .otherwise(F.col(\"coordinator\") / 4)\\\n",
    "        .cast(T.IntegerType())\n",
    "    )\\\n",
    "    .orderBy(\"clients\")\\\n",
    "    .cache()"
   ]
  },
  {
   "cell_type": "code",
   "execution_count": null,
   "metadata": {
    "execution": {
     "iopub.execute_input": "2021-09-21T15:22:29.028282Z",
     "iopub.status.busy": "2021-09-21T15:22:29.028004Z",
     "iopub.status.idle": "2021-09-21T15:22:29.041638Z",
     "shell.execute_reply": "2021-09-21T15:22:29.040701Z",
     "shell.execute_reply.started": "2021-09-21T15:22:29.028262Z"
    }
   },
   "outputs": [],
   "source": [
    "def plot_latency_per_region(sdf_dict, order, cycle):\n",
    "    rows = 2\n",
    "    cols = 4\n",
    "    fig, ax = plt.subplots(rows, cols, figsize=(14, 6), sharex=True, sharey=True)\n",
    "    regions = [\n",
    "        \"us-east-2\",\n",
    "        \"us-east-1\",\n",
    "        \"eu-west-1\",\n",
    "        \"eu-west-2\",\n",
    "        \"ap-northeast-1\",\n",
    "        \"ap-northeast-2\",\n",
    "        \"ap-southeast-1\",\n",
    "        \"ap-southeast-2\"\n",
    "    ]\n",
    "    for i in range(8):\n",
    "        r, c = i // cols, i % cols\n",
    "        ax[r, c].set_prop_cycle(cycle)\n",
    "        for label in order:\n",
    "            sdf = sdf_dict[label]\n",
    "            plot_cdf(\n",
    "                collect_col(sdf.where(col(\"coordinator_region\") == i), \"latency\"),\n",
    "                ax=ax[r, c],\n",
    "                label=label if i == 0 else '_nolegend_',\n",
    "            )\n",
    "\n",
    "        ax[r, c].set_title(f\"{regions[i]}\")\n",
    "        if r == rows - 1:\n",
    "            ax[r, c].set_xlabel(\"latency (ms)\")\n",
    "\n",
    "    return fig, ax\n"
   ]
  },
  {
   "cell_type": "code",
   "execution_count": null,
   "metadata": {},
   "outputs": [],
   "source": [
    "baseline_sdf = latency_sdf.where((col(\"config_name\") == \"baseline.conf\") & (col(\"clients\") == 2)).cache()\n",
    "ddr_ts_sdf = latency_sdf.where((col(\"config_name\") == \"ddr_ts.conf\") & (col(\"clients\") == 25)).cache()\n",
    "calvin_sdf = latency_sdf.where((col(\"config_name\") == \"calvin.conf\") & (col(\"clients\") == 50)).cache()\n",
    "calvin_paxos_sdf = latency_sdf.where((col(\"config_name\") == \"calvin_paxos.conf\") & (col(\"clients\") == 100)).cache()\n",
    "\n",
    "MH_FILTER = F.size(\"regions\") > 1\n",
    "SH_FILTER = F.size(\"regions\") == 1\n",
    "\n",
    "fig, _ = plot_latency_per_region({\n",
    "        \"Detock (MH)\": ddr_ts_sdf.where(MH_FILTER),\n",
    "        \"Detock (SH)\": ddr_ts_sdf.where(SH_FILTER),\n",
    "        \"SLOG (MH)\": baseline_sdf.where(MH_FILTER),\n",
    "        \"SLOG (SH)\": baseline_sdf.where(SH_FILTER),\n",
    "        \"Calvin (Paxos)\": calvin_paxos_sdf,\n",
    "        \"Calvin\": calvin_sdf,\n",
    "    },\n",
    "    [\n",
    "        \"Detock (MH)\",\n",
    "        \"Detock (SH)\",\n",
    "        \"SLOG (MH)\",\n",
    "        \"SLOG (SH)\",\n",
    "        \"Calvin (Paxos)\",\n",
    "        \"Calvin\"\n",
    "    ],\n",
    "    cycler(color='rkg') * cycler(linestyle=['-', '--']),\n",
    ")\n",
    "\n",
    "fig.legend(bbox_to_anchor=(0, 1, 1, 0), loc='lower left', ncol=6)\n",
    "fig.tight_layout()\n",
    "fig.savefig('output/tpcc-cdf.pdf', bbox_inches='tight')\n",
    "fig.savefig('output/tpcc-cdf.png', bbox_inches='tight')"
   ]
  },
  {
   "cell_type": "markdown",
   "metadata": {},
   "source": [
    "# Throughput & Latency"
   ]
  },
  {
   "cell_type": "code",
   "execution_count": null,
   "metadata": {},
   "outputs": [],
   "source": [
    "IGNORE_CACHE = False\n",
    "\n",
    "percentile_cols = [\n",
    "    F.percentile_approx(\"latency\", 0.5).alias(\"percentile_50\"),\n",
    "    F.percentile_approx(\"latency\", 0.90).alias(\"percentile_90\"),\n",
    "    F.percentile_approx(\"latency\", 0.95).alias(\"percentile_95\"),\n",
    "    F.percentile_approx(\"latency\", 0.99).alias(\"percentile_99\"),\n",
    "]\n",
    "\n",
    "baseline_pct = from_cache_or_compute(\n",
    "    f'{PREFIX}/baseline_latency_pct.parquet',\n",
    "    lambda: latency_sdf.where((col(\"config_name\") == \"baseline.conf\"))\\\n",
    "        .groupBy(\"clients\")\\\n",
    "        .agg(*percentile_cols)\\\n",
    "        .toPandas(),\n",
    "    ignore_cache=IGNORE_CACHE,\n",
    ")\n",
    "\n",
    "ddr_ts_pct = from_cache_or_compute(\n",
    "    f'{PREFIX}/ddr_ts_latency_pct.parquet',\n",
    "    lambda: latency_sdf.where((col(\"config_name\") == \"ddr_ts.conf\"))\\\n",
    "        .groupBy(\"clients\")\\\n",
    "        .agg(*percentile_cols)\\\n",
    "        .toPandas(),\n",
    "    ignore_cache=IGNORE_CACHE,\n",
    ")\n",
    "\n",
    "calvin_pct = from_cache_or_compute(\n",
    "    f'{PREFIX}/calvin_latency_pct.parquet',\n",
    "    lambda: latency_sdf.where((col(\"config_name\") == \"calvin.conf\"))\\\n",
    "        .groupBy(\"clients\")\\\n",
    "        .agg(*percentile_cols)\\\n",
    "        .toPandas(),\n",
    "    ignore_cache=IGNORE_CACHE,\n",
    ")\n",
    "\n",
    "latency_pct_df = pd.concat([\n",
    "    baseline_pct.assign(config_name=\"baseline.conf\"),\n",
    "    ddr_ts_pct.assign(config_name=\"ddr_ts.conf\"),\n",
    "    calvin_pct.assign(config_name=\"calvin.conf\"),\n",
    "])\n",
    "\n",
    "throughput_latency_df = throughput_df[[\"config_name\", \"clients\", \"throughput\"]].merge(\n",
    "    latency_pct_df,\n",
    "    on=[\"config_name\", \"clients\"]\n",
    ").sort_values(\"clients\")\n",
    "throughput_latency_df.sort_values([\"config_name\", \"throughput\"])"
   ]
  },
  {
   "cell_type": "code",
   "execution_count": null,
   "metadata": {},
   "outputs": [],
   "source": [
    "fig, ax = plt.subplots(1, 1, figsize=(6, 4.5))\n",
    "config_names = [\"ddr_ts.conf\", \"baseline.conf\", \"calvin.conf\"]\n",
    "config_to_label = {\n",
    "    'baseline.conf': 'SLOG',\n",
    "    'ddr_only.conf': 'Detock (without Opportunistic Ordering)',\n",
    "    'ddr_ts.conf': 'Detock',\n",
    "    'calvin.conf': 'Calvin',\n",
    "}\n",
    "\n",
    "ax.set_prop_cycle((cycler(marker=['.', 'x', '+']) + cycler(color='rkg')) * cycler(linestyle=['--', '-']))\n",
    "\n",
    "for config in config_names:\n",
    "    label = config_to_label[config]\n",
    "    mask = throughput_latency_df.config_name == config\n",
    "    if config == \"calvin.conf\":\n",
    "        mask &= throughput_latency_df.clients > 100\n",
    "    else:\n",
    "        mask &= throughput_latency_df.clients > 25\n",
    "    throughput_latency_df[mask].plot(x=\"throughput\", y=\"percentile_50\", label=f\"{label} p50\", ax=ax, legend=False)\n",
    "    throughput_latency_df[mask].plot(x=\"throughput\", y=\"percentile_99\", label=f\"{label} p99\", ax=ax, legend=False)\n",
    "\n",
    "ax.set_yscale('log')\n",
    "ax.set_ylabel(\"latency (ms)\")\n",
    "ax.set_xlabel(\"throughput (txn/s)\")\n",
    "fig.legend(bbox_to_anchor=(0, 1, 1, 0), loc='lower left', mode='expand', ncol=3)\n",
    "fig.tight_layout()\n",
    "fig.savefig('output/tpcc-throughput-latency.pdf', bbox_inches='tight')\n",
    "fig.savefig('output/tpcc-throughput-latency.png', bbox_inches='tight')"
   ]
  },
  {
   "cell_type": "code",
   "execution_count": null,
   "metadata": {},
   "outputs": [],
   "source": []
  }
 ],
 "metadata": {
  "interpreter": {
   "hash": "c6d70b928e3b547af58be583a486d1526112f45e5dbd54efba8c49d7a2e37afa"
  },
  "kernelspec": {
   "display_name": "Python 3.8.10 ('venv': venv)",
   "language": "python",
   "name": "python3"
  },
  "language_info": {
   "codemirror_mode": {
    "name": "ipython",
    "version": 3
   },
   "file_extension": ".py",
   "mimetype": "text/x-python",
   "name": "python",
   "nbconvert_exporter": "python",
   "pygments_lexer": "ipython3",
   "version": "3.8.10"
  }
 },
 "nbformat": 4,
 "nbformat_minor": 4
}
