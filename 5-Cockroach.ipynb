{
 "cells": [
  {
   "cell_type": "code",
   "execution_count": null,
   "metadata": {
    "execution": {
     "iopub.execute_input": "2021-12-11T00:07:56.492225Z",
     "iopub.status.busy": "2021-12-11T00:07:56.491884Z",
     "iopub.status.idle": "2021-12-11T00:08:01.455078Z",
     "shell.execute_reply": "2021-12-11T00:08:01.454176Z",
     "shell.execute_reply.started": "2021-12-11T00:07:56.492204Z"
    }
   },
   "outputs": [],
   "source": [
    "from pyspark.sql import SparkSession\n",
    "\n",
    "spark = SparkSession.builder\\\n",
    "    .config(\"spark.driver.memory\", \"16g\")\\\n",
    "    .getOrCreate()\n",
    "\n",
    "spark"
   ]
  },
  {
   "cell_type": "code",
   "execution_count": null,
   "metadata": {
    "execution": {
     "iopub.execute_input": "2021-12-11T00:08:01.456469Z",
     "iopub.status.busy": "2021-12-11T00:08:01.456230Z",
     "iopub.status.idle": "2021-12-11T00:08:01.937728Z",
     "shell.execute_reply": "2021-12-11T00:08:01.936811Z",
     "shell.execute_reply.started": "2021-12-11T00:08:01.456448Z"
    }
   },
   "outputs": [],
   "source": [
    "%load_ext autoreload\n",
    "%autoreload 2\n",
    "\n",
    "import numpy as np\n",
    "import matplotlib.pyplot as plt\n",
    "import pandas as pd\n",
    "import pyspark.sql.functions as F\n",
    "import pyspark.sql.types as T\n",
    "\n",
    "from pyspark.sql.window import Window\n",
    "from pyspark.sql.functions import col, lit\n",
    "\n",
    "from common import *\n",
    "\n",
    "plt.rc('axes', labelsize=13, titlesize=13)\n",
    "plt.rc('xtick', labelsize=12)\n",
    "plt.rc('ytick', labelsize=12)\n",
    "plt.rc('legend', fontsize=13)"
   ]
  },
  {
   "cell_type": "markdown",
   "metadata": {},
   "source": [
    "# Throughput"
   ]
  },
  {
   "cell_type": "code",
   "execution_count": null,
   "metadata": {
    "execution": {
     "iopub.execute_input": "2021-12-11T00:08:01.954201Z",
     "iopub.status.busy": "2021-12-11T00:08:01.954017Z",
     "iopub.status.idle": "2021-12-11T00:08:07.755720Z",
     "shell.execute_reply": "2021-12-11T00:08:07.754751Z",
     "shell.execute_reply.started": "2021-12-11T00:08:01.954183Z"
    }
   },
   "outputs": [],
   "source": [
    "THRP_PREFIX = \"main/cockroach\"\n",
    "\n",
    "IGNORE_CACHE = False\n",
    "\n",
    "thrp_index_df = from_cache_or_compute(\n",
    "    f'{THRP_PREFIX}/index.parquet',\n",
    "    lambda: get_index(spark, THRP_PREFIX)\\\n",
    "        .withColumn(\"config_name\", F.regexp_replace(\"config_name\", \"\\.conf\", \"\"))\\\n",
    "        .toPandas()\\\n",
    "        .convert_dtypes()\\\n",
    "        .astype({\n",
    "            \"wl:hot\": \"int32\",\n",
    "            \"wl:mh\": \"int32\",\n",
    "        }),\n",
    "    ignore_cache=IGNORE_CACHE,\n",
    ")\n",
    "thrp_index_df"
   ]
  },
  {
   "cell_type": "markdown",
   "metadata": {},
   "source": [
    "## SLOG throughput"
   ]
  },
  {
   "cell_type": "code",
   "execution_count": null,
   "metadata": {
    "execution": {
     "iopub.execute_input": "2021-12-11T00:08:07.757008Z",
     "iopub.status.busy": "2021-12-11T00:08:07.756786Z",
     "iopub.status.idle": "2021-12-11T00:08:07.823755Z",
     "shell.execute_reply": "2021-12-11T00:08:07.822707Z",
     "shell.execute_reply.started": "2021-12-11T00:08:07.756990Z"
    }
   },
   "outputs": [],
   "source": [
    "IGNORE_CACHE = False\n",
    "\n",
    "def compute_throughput(prefix):\n",
    "    res = throughput(\n",
    "        spark,\n",
    "        prefix,\n",
    "        start_offset_sec=10,\n",
    "        duration_sec=50\n",
    "    ).first().throughput\n",
    "    print(prefix, res)\n",
    "    return res\n",
    "\n",
    "\n",
    "def compute_all_throughputs(index_df):\n",
    "    # Extract all prefixes in the index\n",
    "    throughput_df = index_df.loc[:, [\"prefix\"]]\n",
    "    # Compute the throughput of each prefix\n",
    "    throughput_df[\"throughput\"] = throughput_df.apply(lambda r : compute_throughput(r[\"prefix\"]), axis=1)\n",
    "    # Associate metadata from the index to the throughputs\n",
    "    return throughput_df.merge(index_df, on=\"prefix\")\n",
    "\n",
    "\n",
    "throughput_df = from_cache_or_compute(\n",
    "    f'{THRP_PREFIX}/throughput.parquet',\n",
    "    lambda: compute_all_throughputs(thrp_index_df),\n",
    "    ignore_cache=IGNORE_CACHE,\n",
    ")"
   ]
  },
  {
   "cell_type": "markdown",
   "metadata": {},
   "source": [
    "## CockroachDB throughput"
   ]
  },
  {
   "cell_type": "code",
   "execution_count": null,
   "metadata": {
    "execution": {
     "iopub.execute_input": "2021-12-11T00:08:07.825298Z",
     "iopub.status.busy": "2021-12-11T00:08:07.825022Z",
     "iopub.status.idle": "2021-12-11T00:08:08.998886Z",
     "shell.execute_reply": "2021-12-11T00:08:08.997777Z",
     "shell.execute_reply.started": "2021-12-11T00:08:07.825279Z"
    }
   },
   "outputs": [],
   "source": [
    "crdb_schema = StructType([\n",
    "    StructField(\"wl:mh\", T.IntegerType(), False),\n",
    "    StructField(\"wl:hot\", T.IntegerType(), False),\n",
    "    StructField(\"region\", T.StringType(), False),\n",
    "    StructField(\"type\", T.StringType(), False),\n",
    "    StructField(\"count\", T.IntegerType(), False),\n",
    "    StructField(\"throughput\", T.DoubleType(), False),\n",
    "    StructField(\"avg\", T.DoubleType(), False),\n",
    "    StructField(\"p50\", T.DoubleType(), False),\n",
    "    StructField(\"p95\", T.DoubleType(), False),\n",
    "    StructField(\"p99\", T.DoubleType(), False),\n",
    "    StructField(\"pMax\", T.DoubleType(), False),\n",
    "])\n",
    "\n",
    "crdb_sdf = spark.read.csv(\"main/crdb.csv\", header=True, schema=crdb_schema)\n",
    "\n",
    "crdb_df = crdb_sdf\\\n",
    "    .groupBy(\"wl:mh\", \"wl:hot\")\\\n",
    "    .agg(F.sum(\"throughput\").alias(\"crdb\"))\\\n",
    "    .toPandas()\n",
    "\n",
    "crdb_df.set_index([\"wl:mh\", \"wl:hot\"], inplace=True)\n",
    "crdb_df.sort_index(inplace=True, ascending=[True, False])\n",
    "\n",
    "crdb_df.columns = crdb_df.columns.set_names(\"config_name\")\n",
    "crdb_df"
   ]
  },
  {
   "cell_type": "markdown",
   "metadata": {},
   "source": [
    "## Plot"
   ]
  },
  {
   "cell_type": "code",
   "execution_count": null,
   "metadata": {
    "execution": {
     "iopub.execute_input": "2021-12-11T00:08:09.000592Z",
     "iopub.status.busy": "2021-12-11T00:08:09.000378Z",
     "iopub.status.idle": "2021-12-11T00:08:09.550467Z",
     "shell.execute_reply": "2021-12-11T00:08:09.549531Z",
     "shell.execute_reply.started": "2021-12-11T00:08:09.000573Z"
    }
   },
   "outputs": [],
   "source": [
    "pivot_values = \"throughput\"\n",
    "pivot_columns = \"config_name\"\n",
    "pivot_index = [\"wl:mh\", \"wl:hot\"]\n",
    "\n",
    "ddr_ts_df = throughput_df.pivot(index=pivot_index, columns=pivot_columns, values=pivot_values).sort_index(ascending=[True, False])\n",
    "combined = ddr_ts_df.join(crdb_df)\n",
    "\n",
    "_, axes = plt.subplots(1, 3, figsize=(15, 5), sharey=True)\n",
    "\n",
    "combined.loc[(0, slice(None)), :].plot.bar(ax=axes[0], title=\"MH = 0\", xlabel=\"HOT\", ylabel=\"txn/s\", rot=45)\n",
    "combined.loc[(50, slice(None)), :].plot.bar(ax=axes[1], title=\"MH = 50\", xlabel=\"HOT\", rot=45)\n",
    "combined.loc[(100, slice(None)), :].plot.bar(ax=axes[2], title=\"MH = 100\", xlabel=\"HOT\", rot=45)\n",
    "\n",
    "for ax in axes:\n",
    "    ax.set_xticklabels([1/1000000, 1/100000, 1/10000, 1/1000, 1/100, 1/10])\n",
    "\n",
    "def disp(x):\n",
    "    return f'{x:,.0f}'\n",
    "\n",
    "HEIGHT = 500\n",
    "axes[0].annotate(disp(crdb_df.loc[(0, 1000), 'crdb']), (3, HEIGHT + 1800))\n",
    "axes[0].annotate(disp(crdb_df.loc[(0, 100), 'crdb']), (4.1, HEIGHT + 500))\n",
    "axes[0].annotate(disp(crdb_df.loc[(0, 10), 'crdb']), (5.1, HEIGHT))\n",
    "axes[1].annotate(disp(crdb_df.loc[(50, 1000), 'crdb']), (3, HEIGHT + 0.08))\n",
    "axes[1].annotate(disp(crdb_df.loc[(50, 100), 'crdb']), (4.1, HEIGHT))\n",
    "axes[1].annotate(disp(crdb_df.loc[(50, 10), 'crdb']), (5.1, HEIGHT))\n",
    "axes[2].annotate(disp(crdb_df.loc[(100, 1000), 'crdb']), (3, HEIGHT + 0.08))\n",
    "axes[2].annotate(disp(crdb_df.loc[(100, 100), 'crdb']), (4.1, HEIGHT))\n",
    "axes[2].annotate(disp(crdb_df.loc[(100, 10), 'crdb']), (5.1, HEIGHT))\n",
    "\n",
    "plt.tight_layout()"
   ]
  },
  {
   "cell_type": "code",
   "execution_count": null,
   "metadata": {
    "execution": {
     "iopub.execute_input": "2021-12-10T19:09:39.291783Z",
     "iopub.status.busy": "2021-12-10T19:09:39.291525Z",
     "iopub.status.idle": "2021-12-10T19:09:39.885367Z",
     "shell.execute_reply": "2021-12-10T19:09:39.884348Z",
     "shell.execute_reply.started": "2021-12-10T19:09:39.291763Z"
    }
   },
   "outputs": [],
   "source": [
    "def normalize_per_mh(df):\n",
    "    mh_pcts = df.index.get_level_values(0).unique()\n",
    "    for mh_pct in mh_pcts:\n",
    "        g = df.loc[(mh_pct, slice(None)), :]\n",
    "        df.loc[(mh_pct, slice(None)), :] /= g.loc[(mh_pct, 1000000), :]\n",
    "    return df    \n",
    "\n",
    "crdb_norm_df = normalize_per_mh(crdb_df.copy())\n",
    "slog_norm_df = normalize_per_mh(ddr_ts_df.copy())\n",
    "combined_norm = slog_norm_df.join(crdb_norm_df)"
   ]
  },
  {
   "cell_type": "code",
   "execution_count": null,
   "metadata": {},
   "outputs": [],
   "source": [
    "\n",
    "fig, axes = plt.subplots(1, 3, figsize=(15, 4), sharey=True)\n",
    "\n",
    "xticks = np.array([1/1000000, 1/100000, 1/10000, 1/1000, 1/100, 1/10])\n",
    "xticks = xticks.astype('str')\n",
    "x = np.arange(len(xticks))*1.5\n",
    "\n",
    "for i, mh in enumerate([0, 50, 100]):\n",
    "    axes[i].bar(\n",
    "        x - 0.25,\n",
    "        combined_norm.loc[(mh, slice(None)), 'ddr_ts'],\n",
    "        width=0.5,\n",
    "        fill=False,\n",
    "        edgecolor='r',\n",
    "        hatch='\\\\',\n",
    "        label='Detock' if i == 0 else '_nolegend_',\n",
    "    )\n",
    "    axes[i].bar(\n",
    "        x + 0.25,\n",
    "        combined_norm.loc[(mh, slice(None)), 'crdb'],\n",
    "        width=0.5,\n",
    "        fill=False,\n",
    "        edgecolor='b',\n",
    "        hatch='x',\n",
    "        label='CockroachDB' if i == 0 else '_nolegend_',\n",
    "    )\n",
    "    axes[i].set_title(f'MH = {mh}%')\n",
    "    axes[i].set_xlabel('HOT')\n",
    "    if i == 0:\n",
    "        axes[i].set_ylabel('normalized throughput')\n",
    "\n",
    "for ax in axes:\n",
    "    ax.set_xticks(x)\n",
    "    ax.set_xticklabels(xticks)\n",
    "\n",
    "HEIGHT = 0.03\n",
    "\n",
    "def disp(x):\n",
    "    return f'{x:,.3f}'\n",
    "\n",
    "axes[0].annotate(disp(crdb_norm_df.loc[(0, 1000), 'crdb']), (x[3]+.04, HEIGHT + 0.13))\n",
    "axes[0].annotate(disp(crdb_norm_df.loc[(0, 100), 'crdb']), (x[4]+.04, HEIGHT + 0.03))\n",
    "axes[0].annotate(disp(crdb_norm_df.loc[(0, 10), 'crdb']), (x[5]+.04, HEIGHT))\n",
    "axes[1].annotate(disp(crdb_norm_df.loc[(50, 1000), 'crdb']), (x[3]+.04, HEIGHT + 0.01))\n",
    "axes[1].annotate(disp(crdb_norm_df.loc[(50, 100), 'crdb']), (x[4]+.04, HEIGHT + 0.01))\n",
    "axes[1].annotate(disp(crdb_norm_df.loc[(50, 10), 'crdb']), (x[5]+.04, HEIGHT))\n",
    "axes[2].annotate(disp(crdb_norm_df.loc[(100, 1000), 'crdb']), (x[3]+.04, HEIGHT + 0.02))\n",
    "axes[2].annotate(disp(crdb_norm_df.loc[(100, 100), 'crdb']), (x[4]+.04, HEIGHT))\n",
    "axes[2].annotate(disp(crdb_norm_df.loc[(100, 10), 'crdb']), (x[5]+.04, HEIGHT))\n",
    "\n",
    "fig.legend(bbox_to_anchor=(0, 1), loc='lower left', ncol=2)\n",
    "fig.tight_layout()\n",
    "fig.savefig('output/cockroach-rel-throughput.pdf', bbox_inches='tight')"
   ]
  },
  {
   "cell_type": "code",
   "execution_count": null,
   "metadata": {},
   "outputs": [],
   "source": [
    "def normalize_and_pivot(df, value_name):\n",
    "    res = df.reset_index()\n",
    "    res[value_name] /= res[value_name].max()\n",
    "    res[\"hot\"] = 1 / res[\"wl:hot\"]\n",
    "    return res.pivot(index=\"hot\", columns=\"wl:mh\", values=value_name)\\\n",
    "        .rename(columns={\n",
    "            0: f\"{value_name}_0\",\n",
    "            50: f\"{value_name}_50\",\n",
    "            100: f\"{value_name}_100\",\n",
    "        })\n",
    "\n",
    "crdb_bar_df = normalize_and_pivot(crdb_df, \"crdb\")\n",
    "ddr_ts_bar_df = normalize_and_pivot(ddr_ts_df, \"ddr_ts\")\n",
    "\n",
    "combined_bar_df = ddr_ts_bar_df.join(crdb_bar_df)\n",
    "combined_bar_df\n"
   ]
  },
  {
   "cell_type": "code",
   "execution_count": null,
   "metadata": {},
   "outputs": [],
   "source": [
    "fig, ax = plt.subplots(1, 1, figsize=(6, 4))\n",
    "common_args = {\n",
    "    \"width\": 0.14,\n",
    "    \"ax\": ax,\n",
    "    \"legend\": False,\n",
    "    \"edgecolor\": \"k\",\n",
    "    \"rot\": 0,\n",
    "}\n",
    "ddr_ts_color=\"steelblue\"\n",
    "cockroach_color=\"tomato\"\n",
    "hatch_0 = \"x\"\n",
    "hatch_50 = \"-\"\n",
    "hatch_100 = \"o\"\n",
    "\n",
    "combined_bar_df[\"ddr_ts_0\"].plot.bar(\n",
    "    position=3,\n",
    "    color=ddr_ts_color,\n",
    "    hatch=hatch_0,\n",
    "    **common_args,\n",
    ")\n",
    "combined_bar_df[\"ddr_ts_50\"].plot.bar(\n",
    "    position=2,\n",
    "    color=ddr_ts_color,\n",
    "    hatch=hatch_50,\n",
    "    **common_args,\n",
    ")\n",
    "combined_bar_df[\"ddr_ts_100\"].plot.bar(\n",
    "    position=1,\n",
    "    color=ddr_ts_color,\n",
    "    hatch=hatch_100,\n",
    "    **common_args,\n",
    ")\n",
    "combined_bar_df[\"crdb_0\"].plot.bar(\n",
    "    position=0,\n",
    "    color=cockroach_color,\n",
    "    hatch=hatch_0,\n",
    "    **common_args,\n",
    ")\n",
    "combined_bar_df[\"crdb_50\"].plot.bar(\n",
    "    position=-1,\n",
    "    color=cockroach_color,\n",
    "    hatch=hatch_50,\n",
    "    **common_args,\n",
    ")\n",
    "combined_bar_df[\"crdb_100\"].plot.bar(\n",
    "    position=-2,\n",
    "    color=cockroach_color,\n",
    "    hatch=hatch_100,\n",
    "    **common_args,\n",
    ")\n",
    "\n",
    "ax.set_yscale(\"log\")\n",
    "ax.set_xlim(-0.6, 5.6)\n",
    "ax.set_xlabel(\"HOT\")\n",
    "ax.set_ylabel('normalized throughput')\n",
    "\n",
    "from matplotlib.patches import Patch\n",
    "from matplotlib.lines import Line2D\n",
    "\n",
    "legend_handles = [\n",
    "    Line2D([0], [0], marker='o', color='w', label='Detock', markeredgecolor='k', markersize=12,\n",
    "        markerfacecolor=ddr_ts_color, \n",
    "    ),\n",
    "    Line2D([0], [0], marker='o', color='w', label='CockroachDB', markeredgecolor='k', markersize=12,\n",
    "        markerfacecolor=cockroach_color,\n",
    "    ),\n",
    "    Patch(facecolor='w', edgecolor='k', hatch=hatch_0*2, label='MH = 0'),\n",
    "    Patch(facecolor='w', edgecolor='k', hatch=hatch_50*2, label='MH = 50'),\n",
    "    Patch(facecolor='w', edgecolor='k', hatch=hatch_100*2, label='MH = 100'),\n",
    "    # Rectangle((0, 0), 5, 2, facecolor=cockroach_color, edgecolor='k',label='CockroachDB'),\n",
    "]\n",
    "\n",
    "fig.legend(\n",
    "    handles=legend_handles,\n",
    "    # bbox_to_anchor=(1.0, 0.6),\n",
    "    bbox_to_anchor=(0, 1),\n",
    "    loc='lower left',\n",
    "    ncol=5,\n",
    "    columnspacing=1.0,\n",
    "    handlelength=1.0,\n",
    ")\n",
    "\n",
    "fig.tight_layout()\n",
    "fig.savefig('output/cockroach-rel-throughput.pdf', bbox_inches='tight')"
   ]
  },
  {
   "cell_type": "markdown",
   "metadata": {},
   "source": [
    "# Deadlock"
   ]
  },
  {
   "cell_type": "code",
   "execution_count": null,
   "metadata": {
    "execution": {
     "iopub.execute_input": "2021-12-10T19:09:50.972497Z",
     "iopub.status.busy": "2021-12-10T19:09:50.972177Z",
     "iopub.status.idle": "2021-12-10T19:09:52.189505Z",
     "shell.execute_reply": "2021-12-10T19:09:52.188094Z",
     "shell.execute_reply.started": "2021-12-10T19:09:50.972475Z"
    }
   },
   "outputs": [],
   "source": [
    "crdb_cnt_df = crdb_sdf\\\n",
    "    .withColumn(\"type\", F.regexp_replace(\"type\", \"too-old\", \"other\"))\\\n",
    "    .groupBy(\"wl:mh\", \"wl:hot\", \"type\")\\\n",
    "    .agg(F.sum(\"count\").alias(\"count\"))\\\n",
    "    .withColumn(\"pct\", \n",
    "                100*F.col(\"count\") / F.sum(\"count\").over(\n",
    "                    Window.partitionBy(\"wl:mh\", \"wl:hot\")\n",
    "                )\n",
    "               )\\\n",
    "    .toPandas()\n",
    "\n",
    "crdb_cnt_df"
   ]
  },
  {
   "cell_type": "code",
   "execution_count": null,
   "metadata": {
    "execution": {
     "iopub.execute_input": "2021-12-07T03:31:18.606290Z",
     "iopub.status.busy": "2021-12-07T03:31:18.606018Z",
     "iopub.status.idle": "2021-12-07T03:31:19.145773Z",
     "shell.execute_reply": "2021-12-07T03:31:19.144930Z",
     "shell.execute_reply.started": "2021-12-07T03:31:18.606271Z"
    }
   },
   "outputs": [],
   "source": [
    "crdb_cnt_pivot_df = crdb_cnt_df.pivot(index=[\"wl:mh\", \"wl:hot\"], columns=\"type\", values=\"count\")\n",
    "crdb_cnt_pivot_df.sort_index(inplace=True, ascending=[True, False])\n",
    "crdb_cnt_pivot_df[\"sum\"] = crdb_cnt_pivot_df[\"write\"] + crdb_cnt_pivot_df['deadlock'] + crdb_cnt_pivot_df['other']\n",
    "\n",
    "_, axes = plt.subplots(1, 3, figsize=(17, 5), sharey=True)\n",
    "\n",
    "bars = ['write', 'deadlock', 'other']\n",
    "\n",
    "crdb_cnt_pivot_df.loc[(0, slice(None)), :].plot.bar(y=bars, ax=axes[0], title=\"MH = 0\", xlabel=\"HOT\", ylabel=\"# txn\", rot=45, stacked=True)\n",
    "crdb_cnt_pivot_df.loc[(50, slice(None)), :].plot.bar(y=bars, ax=axes[1], title=\"MH = 50\", xlabel=\"HOT\", rot=45, stacked=True)\n",
    "crdb_cnt_pivot_df.loc[(100, slice(None)), :].plot.bar(y=bars, ax=axes[2], title=\"MH = 100\", xlabel=\"HOT\", rot=45, stacked=True)\n",
    "\n",
    "for ax in axes:\n",
    "    ax.set_xticklabels([1/1000000, 1/100000, 1/10000, 1/1000, 1/100, 1/10])\n",
    "\n",
    "def disp(x):\n",
    "    return f'{x:,.0f}'\n",
    "\n",
    "HEIGHT = 20000\n",
    "\n",
    "axes[0].annotate(disp(crdb_cnt_pivot_df.loc[(0, 1000), 'sum']), (2.7, HEIGHT + 180000))\n",
    "axes[0].annotate(disp(crdb_cnt_pivot_df.loc[(0, 100), 'sum']), (3.7, HEIGHT + 60000))\n",
    "axes[0].annotate(disp(crdb_cnt_pivot_df.loc[(0, 10), 'sum']), (4.8, HEIGHT))\n",
    "axes[1].annotate(disp(crdb_cnt_pivot_df.loc[(50, 1000), 'sum']), (2.7, HEIGHT + 15000))\n",
    "axes[1].annotate(disp(crdb_cnt_pivot_df.loc[(50, 100), 'sum']), (3.7, HEIGHT + 10000))\n",
    "axes[1].annotate(disp(crdb_cnt_pivot_df.loc[(50, 10), 'sum']), (4.8, HEIGHT))\n",
    "axes[2].annotate(disp(crdb_cnt_pivot_df.loc[(100, 1000), 'sum']), (2.7, HEIGHT + 15000))\n",
    "axes[2].annotate(disp(crdb_cnt_pivot_df.loc[(100, 100), 'sum']), (3.8, HEIGHT + 10000))\n",
    "axes[2].annotate(disp(crdb_cnt_pivot_df.loc[(100, 10), 'sum']), (4.8, HEIGHT))\n",
    "    \n",
    "plt.tight_layout()"
   ]
  },
  {
   "cell_type": "code",
   "execution_count": null,
   "metadata": {
    "execution": {
     "iopub.execute_input": "2021-12-10T19:10:07.848767Z",
     "iopub.status.busy": "2021-12-10T19:10:07.848501Z",
     "iopub.status.idle": "2021-12-10T19:10:08.479704Z",
     "shell.execute_reply": "2021-12-10T19:10:08.478787Z",
     "shell.execute_reply.started": "2021-12-10T19:10:07.848746Z"
    }
   },
   "outputs": [],
   "source": [
    "crdb_pct_pivot_df = crdb_cnt_df.pivot(index=[\"wl:mh\", \"wl:hot\"], columns=\"type\", values=\"pct\")\n",
    "crdb_pct_pivot_df.sort_index(inplace=True, ascending=[True, False])\n",
    "\n",
    "fig, axes = plt.subplots(1, 3, figsize=(15, 4), sharey=True)\n",
    "\n",
    "xticks = np.array([1/1000000, 1/100000, 1/10000, 1/1000, 1/100, 1/10])\n",
    "xticks = xticks.astype('str')\n",
    "x = np.arange(len(xticks))*1.5\n",
    "\n",
    "for i, mh in enumerate([0, 50, 100]):\n",
    "    write = crdb_pct_pivot_df.loc[(mh, slice(None)), 'write'].to_numpy()\n",
    "    deadlock = crdb_pct_pivot_df.loc[(mh, slice(None)), 'deadlock'].to_numpy()\n",
    "    other = crdb_pct_pivot_df.loc[(mh, slice(None)), 'other'].to_numpy()\n",
    "    axes[i].bar(\n",
    "        x,\n",
    "        write,\n",
    "        fill=False,\n",
    "        edgecolor='darkgreen',\n",
    "        hatch='\\\\',\n",
    "        label='Committed' if i == 0 else '_nolegend_',\n",
    "    )\n",
    "    axes[i].bar(\n",
    "        x,\n",
    "        deadlock,\n",
    "        bottom=write,\n",
    "        fill=False,\n",
    "        edgecolor='r',\n",
    "        hatch='x',\n",
    "        label='Aborted (deadlock)' if i == 0 else '_nolegend_',\n",
    "    )\n",
    "    axes[i].bar(\n",
    "        x,\n",
    "        other,\n",
    "        bottom=write+deadlock,\n",
    "        # fill=False,\n",
    "        color='m',\n",
    "        edgecolor='m',\n",
    "        # hatch='o',\n",
    "        label='Aborted (other)' if i == 0 else '_nolegend_',\n",
    "    )\n",
    "    axes[i].set_title(f'MH = {mh}%')\n",
    "    axes[i].set_xlabel('HOT')\n",
    "    if i == 0:\n",
    "        axes[i].set_ylabel('% transactions')\n",
    "\n",
    "for ax in axes:\n",
    "    ax.set_ylim((0, 100))\n",
    "    ax.set_xticks(x)\n",
    "    ax.set_xticklabels(xticks)\n",
    "\n",
    "fig.legend(bbox_to_anchor=(0, 1), loc='lower left', ncol=3)\n",
    "fig.tight_layout()\n",
    "fig.savefig('output/cockroach-pct-abort.pdf', bbox_inches='tight')"
   ]
  },
  {
   "cell_type": "code",
   "execution_count": null,
   "metadata": {},
   "outputs": [],
   "source": [
    "crdb_pct_pivot_2_df = crdb_cnt_df\\\n",
    "    .pivot(index=\"wl:hot\", columns=[\"type\", \"wl:mh\"], values=\"pct\")\\\n",
    "    .sort_index(ascending=False)\n",
    "crdb_pct_pivot_2_df.index = 1 / crdb_pct_pivot_2_df.index\n",
    "crdb_pct_pivot_2_df"
   ]
  },
  {
   "cell_type": "code",
   "execution_count": null,
   "metadata": {},
   "outputs": [],
   "source": [
    "fig, ax = plt.subplots(1, 1, figsize=(6, 3))\n",
    "commit_color = \"lightgreen\"\n",
    "deadlock_color = \"tomato\"\n",
    "other_color = \"violet\"\n",
    "common_args = {\n",
    "    \"width\": 0.3,\n",
    "    \"ax\": ax,\n",
    "    \"legend\": False,\n",
    "    \"edgecolor\": \"k\",\n",
    "    \"rot\": 0,\n",
    "    \"stacked\": True,\n",
    "    \"color\": [commit_color, deadlock_color, other_color]\n",
    "}\n",
    "crdb_pct_pivot_2_df[[(\"write\", 100), (\"deadlock\", 100), (\"other\", 100)]].plot.bar(\n",
    "    position=-0.5,\n",
    "    hatch=hatch_100,\n",
    "    **common_args,\n",
    ")\n",
    "crdb_pct_pivot_2_df[[(\"write\", 50), (\"deadlock\", 50), (\"other\", 50)]].plot.bar(\n",
    "    position=0.5,\n",
    "    hatch=hatch_50,\n",
    "    **common_args,\n",
    ")\n",
    "crdb_pct_pivot_2_df[[(\"write\", 0), (\"deadlock\", 0), (\"other\", 0)]].plot.bar(\n",
    "    position=1.5,\n",
    "    hatch=hatch_0,\n",
    "    **common_args,\n",
    ")\n",
    "ax.set_xlim(-0.7, 5.7)\n",
    "ax.set_ylim(0, 100)\n",
    "ax.set_xlabel('HOT')\n",
    "ax.set_ylabel('% transactions')\n",
    "\n",
    "\n",
    "from matplotlib.patches import Patch\n",
    "from matplotlib.lines import Line2D\n",
    "\n",
    "legend_handles = [\n",
    "    Line2D([0], [0], marker='o', color='w', label='Committed', markeredgecolor='k', markersize=12,\n",
    "        markerfacecolor=commit_color, \n",
    "    ),\n",
    "    Line2D([0], [0], marker='o', color='w', label='Aborted (deadlock)', markeredgecolor='k', markersize=12,\n",
    "        markerfacecolor=deadlock_color,\n",
    "    ),\n",
    "    Line2D([0], [0], marker='o', color='w', label='Aborted (other)', markeredgecolor='k', markersize=12,\n",
    "        markerfacecolor=other_color,\n",
    "    ),\n",
    "    Patch(facecolor='w', edgecolor='k', hatch=hatch_0*2, label='MH = 0'),\n",
    "    Patch(facecolor='w', edgecolor='k', hatch=hatch_50*2, label='MH = 50'),\n",
    "    Patch(facecolor='w', edgecolor='k', hatch=hatch_100*2, label='MH = 100'),\n",
    "]\n",
    "\n",
    "fig.legend(\n",
    "    handles=legend_handles,\n",
    "    bbox_to_anchor=(1.0, 0.5),\n",
    "    # bbox_to_anchor=(0, 1),\n",
    "    loc='lower left',\n",
    "    ncol=1,\n",
    "    handlelength=1.0,\n",
    "    fontsize=10,\n",
    ")\n",
    "\n",
    "fig.tight_layout()\n",
    "fig.savefig('output/cockroach-pct-abort.pdf', bbox_inches='tight')"
   ]
  },
  {
   "cell_type": "markdown",
   "metadata": {},
   "source": [
    "# Latency"
   ]
  },
  {
   "cell_type": "code",
   "execution_count": null,
   "metadata": {},
   "outputs": [],
   "source": [
    "LAT_PREFIX = \"main/cockroach-latency\"\n",
    "\n",
    "IGNORE_CACHE = False\n",
    "\n",
    "lat_index_df = from_cache_or_compute(\n",
    "    f'{LAT_PREFIX}/index.parquet',\n",
    "    lambda: get_index(spark, LAT_PREFIX)\\\n",
    "        .withColumn(\"config_name\", F.regexp_replace(\"config_name\", \"\\.conf\", \"\"))\\\n",
    "        .toPandas()\\\n",
    "        .convert_dtypes()\\\n",
    "        .astype({\n",
    "            \"wl:hot\": \"int32\",\n",
    "            \"wl:mh\": \"int32\",\n",
    "        }),\n",
    "    ignore_cache=IGNORE_CACHE,\n",
    ")\n",
    "lat_index_df"
   ]
  },
  {
   "cell_type": "code",
   "execution_count": null,
   "metadata": {
    "execution": {
     "iopub.execute_input": "2021-12-01T16:09:10.324510Z",
     "iopub.status.busy": "2021-12-01T16:09:10.324233Z",
     "iopub.status.idle": "2021-12-01T16:09:10.344912Z",
     "shell.execute_reply": "2021-12-01T16:09:10.343709Z",
     "shell.execute_reply.started": "2021-12-01T16:09:10.324491Z"
    }
   },
   "outputs": [],
   "source": [
    "IGNORE_CACHE = False\n",
    "\n",
    "percentile_cols = [\n",
    "    F.percentile_approx(\"latency\", 0.5).alias(\"p50\"),\n",
    "    F.percentile_approx(\"latency\", 0.95).alias(\"p95\"),\n",
    "    F.percentile_approx(\"latency\", 0.99).alias(\"p99\"),\n",
    "]\n",
    "\n",
    "slog_latency_df = from_cache_or_compute(\n",
    "    f'{LAT_PREFIX}/latency.parquet',\n",
    "    lambda: latency(spark, lat_index_df[\"prefix\"])\\\n",
    "        .groupBy(\"prefix\")\\\n",
    "        .agg(*percentile_cols)\\\n",
    "        .toPandas()\\\n",
    "        .merge(lat_index_df, on=\"prefix\"),\n",
    "    ignore_cache=IGNORE_CACHE,\n",
    ")\n",
    "slog_latency_df"
   ]
  },
  {
   "cell_type": "code",
   "execution_count": null,
   "metadata": {
    "execution": {
     "iopub.execute_input": "2021-12-01T16:09:11.439218Z",
     "iopub.status.busy": "2021-12-01T16:09:11.438918Z",
     "iopub.status.idle": "2021-12-01T16:09:11.643798Z",
     "shell.execute_reply": "2021-12-01T16:09:11.642841Z",
     "shell.execute_reply.started": "2021-12-01T16:09:11.439196Z"
    }
   },
   "outputs": [],
   "source": [
    "crdb_schema = StructType([\n",
    "    StructField(\"wl:mh\", T.IntegerType(), False),\n",
    "    StructField(\"wl:hot\", T.IntegerType(), False),\n",
    "    StructField(\"region\", T.StringType(), False),\n",
    "    StructField(\"throughput\", T.DoubleType(), False),\n",
    "    StructField(\"avg\", T.DoubleType(), False),\n",
    "    StructField(\"p50\", T.DoubleType(), False),\n",
    "    StructField(\"p95\", T.DoubleType(), False),\n",
    "    StructField(\"p99\", T.DoubleType(), False),\n",
    "    StructField(\"pMax\", T.DoubleType(), False),\n",
    "])\n",
    "crdb_latency_df = spark.read.csv(\"main/crdb-latency.csv\", header=True, schema=crdb_schema)\\\n",
    "    .groupBy(\"wl:mh\", \"wl:hot\")\\\n",
    "    .agg(\n",
    "        F.avg(\"p50\").alias(\"p50\"),\n",
    "        F.avg(\"p95\").alias(\"p95\"),\n",
    "        F.avg(\"p99\").alias(\"p99\"),\n",
    "    )\\\n",
    "    .toPandas()\n",
    "\n",
    "crdb_latency_df[\"config_name\"] = \"crdb\"\n",
    "crdb_latency_df"
   ]
  },
  {
   "cell_type": "code",
   "execution_count": null,
   "metadata": {
    "execution": {
     "iopub.execute_input": "2021-12-02T02:01:16.533671Z",
     "iopub.status.busy": "2021-12-02T02:01:16.533397Z",
     "iopub.status.idle": "2021-12-02T02:01:16.550340Z",
     "shell.execute_reply": "2021-12-02T02:01:16.549277Z",
     "shell.execute_reply.started": "2021-12-02T02:01:16.533652Z"
    }
   },
   "outputs": [],
   "source": [
    "def plot_latency(df, yscale='log'):\n",
    "    _, axes = plt.subplots(1, 3, figsize=(17, 6), sharey=True)\n",
    "\n",
    "    configs = df[\"config_name\"].unique()\n",
    "    mh_pcts = sorted(df[\"wl:mh\"].unique())\n",
    "    \n",
    "    colors = ['C0', 'C1']\n",
    "\n",
    "    for i, config in enumerate(configs):\n",
    "        for r, mh_pct in enumerate(mh_pcts):\n",
    "            mask = (df[\"config_name\"] == config) & (df[\"wl:mh\"] == mh_pct)\n",
    "            filtered = df[mask].sort_values(\"wl:hot\", ascending=False)\n",
    "            label = config.replace('.conf', '')\n",
    "\n",
    "            filtered.plot(ax=axes[r], x=\"wl:hot\", y=\"p50\", label=f'{label}_50', linestyle='dotted', marker='.', color=colors[i])\n",
    "            filtered.plot(ax=axes[r], x=\"wl:hot\", y=\"p95\", label=f'{label}_95', linestyle='dashed', marker='.', color=colors[i])\n",
    "            filtered.plot(ax=axes[r], x=\"wl:hot\", y=\"p99\", label=f'{label}_99', marker='.', color=colors[i])\n",
    "\n",
    "            axes[r].set_title(f\"MH_PCT = {mh_pct}\")\n",
    "            axes[r].set_ylabel(\"latency (ms)\")\n",
    "            axes[r].set_xlabel(\"HOT\")\n",
    "            axes[r].grid(axis='y')\n",
    "            axes[r].set_yscale(yscale)\n",
    "            axes[r].set_xscale('log')\n",
    "            if r != 0:\n",
    "                axes[r].legend([])\n",
    "\n",
    "    plt.tight_layout()"
   ]
  },
  {
   "cell_type": "code",
   "execution_count": null,
   "metadata": {
    "execution": {
     "iopub.execute_input": "2021-12-02T02:01:18.913966Z",
     "iopub.status.busy": "2021-12-02T02:01:18.913711Z",
     "iopub.status.idle": "2021-12-02T02:01:18.932653Z",
     "shell.execute_reply": "2021-12-02T02:01:18.931593Z",
     "shell.execute_reply.started": "2021-12-02T02:01:18.913946Z"
    }
   },
   "outputs": [],
   "source": [
    "latency_df = pd.concat([slog_latency_df, crdb_latency_df])\n",
    "latency_df.loc[:, \"wl:hot\"] = 1 / latency_df.loc[:, \"wl:hot\"]\n",
    "plot_latency(latency_df)"
   ]
  },
  {
   "cell_type": "code",
   "execution_count": null,
   "metadata": {},
   "outputs": [],
   "source": []
  }
 ],
 "metadata": {
  "kernelspec": {
   "display_name": "Python 3.8.10 64-bit",
   "language": "python",
   "name": "python3"
  },
  "language_info": {
   "codemirror_mode": {
    "name": "ipython",
    "version": 3
   },
   "file_extension": ".py",
   "mimetype": "text/x-python",
   "name": "python",
   "nbconvert_exporter": "python",
   "pygments_lexer": "ipython3",
   "version": "3.8.10"
  },
  "vscode": {
   "interpreter": {
    "hash": "31f2aee4e71d21fbe5cf8b01ff0e069b9275f58929596ceb00d14d90e3e16cd6"
   }
  }
 },
 "nbformat": 4,
 "nbformat_minor": 4
}
